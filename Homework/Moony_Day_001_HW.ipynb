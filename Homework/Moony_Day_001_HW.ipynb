{
 "cells": [
  {
   "cell_type": "markdown",
   "metadata": {},
   "source": [
    "# 作業1：\n",
    "### 請上 Kaggle, 在 Competitions 或 Dataset 中找一組競賽或資料並寫下："
   ]
  },
  {
   "cell_type": "markdown",
   "metadata": {},
   "source": [
    "House Prices: Advanced Regression Techniques | Kaggle\n",
    "\n",
    "https://www.kaggle.com/c/house-prices-advanced-regression-techniques\n",
    "\n",
    "Ames, Iowa: Alternative to the Boston Housing Data as an End of Semester Regression Project\n",
    "\n",
    "http://jse.amstat.org/v19n3/decock.pdf\n",
    "\n",
    "### 1.你選的這組資料為何重要\n",
    "\n",
    "A:藉由房子的資料，來預測這個地區的房價\n",
    "\n",
    "### 2.資料從何而來 (tips: 譬如提供者是誰、以什麼方式蒐集)\n",
    "\n",
    "A:\n",
    "The Ames Housing dataset was compiled by Dean De Cock for use in data science education.\n",
    "This paper presents a data set describing the sale of individual residential property in Ames, Iowa from 2006 to 2010. The data set contains 2930 observations and a large number of explanatory variables (23 nominal, 23 ordinal, 14 discrete, and 20 continuous) involved in assessing home values. \n",
    "\n",
    "The data came to me directly from the Assessor’s Office in the form of a data dump from their records system.  The initial Excel file contained 113 variables describing 3970 property sales that had occurred in Ames, Iowa between 2006 and 2010. \n",
    "The variables were a mix of nominal, ordinal, continuous, and discrete variables used in calculation of assessed values and included physical property measurements in addition to computation variables used in the city’s assessment process. \n",
    "\n",
    "For my purposes, a “layman’s” data set that could be easily understood by users at all levels was desirable; so I began my project by removing any variables that required\n",
    "special knowledge or previous calculations for their use. Most of these deleted variables were related to weighting and adjustment factors used in the city’s current modeling system. After removal of these extraneous variables, 80 variables remained that were directly related to property sales. \n",
    "Most of the variables are exactly the type of information that a typical home buyer would want to know about a potential property.\n",
    "\n",
    "### 3.蒐集而來的資料型態為何\n",
    "\n",
    "In general the 20 continuous variables relate to various area dimensions for each observation. In addition to the typical lot size and total dwelling square footage found on most common home listings, other more specific variables are quantified in the data set. Area measurements on the basement, main living area, and even porches are broken down into individual categories based on quality and type. \n",
    "\n",
    "The 14 discrete variables typically quantify the number of items occurring within the house. Most are specifically focused on the number of kitchens, bedrooms, and bathrooms (full and half) located in the basement and above grade (ground) living areas of the home. Additionally, the garage capacity and construction/remodeling dates are also recorded.\n",
    "\n",
    "There are a large number of categorical variables (23 nominal, 23 ordinal) associated with this data set. They range from 2 to 28 classes with the smallest being STREET (gravel or paved) and the largest being NEIGHBORHOOD (areas within the Ames city limits). The nominal variables typically identify various types of dwellings, garages, materials, and environmental conditions while the ordinal variables typically rate various items within the property. \n",
    "\n",
    "### 4.這組資料想解決的問題如何評估\n",
    "\n",
    "預測的房價，與實際房價的差值。\n",
    "可以用MAE(Mean Absolute Error)、MSE(Mean Squared Error)、RSME(Root Mean Squared Error)之類來評估。"
   ]
  },
  {
   "cell_type": "markdown",
   "metadata": {},
   "source": [
    "## 作業2：\n",
    "### 想像你經營一個自由載客車隊，你希望能透過數據分析以提升業績，請你思考並描述你如何規劃整體的分析/解決方案："
   ]
  },
  {
   "cell_type": "markdown",
   "metadata": {},
   "source": [
    "### 1. 核心問題為何 (tips：如何定義 「提升業績 & 你的假設」)\n",
    "\n",
    "A:以業績為觀點，先綜觀影響的因素。\n",
    "可以先問問同業的大概業績情形，瞭解產業的現況。\n",
    "再來作自我檢討，拉出2-5年的資料來看。\n",
    "從年度的影響，再來看季節性的影響，然後看地區性的影響，找出極端值的資料來看。\n",
    "比如看業績最好的，跟業績最差的，比較差異性。\n",
    "\n",
    "### 2. 資料從何而來 (tips：哪些資料可能會對你想問的問題產生影響 & 資料如何蒐集)\n",
    "\n",
    "A:最基本的財報，日業績、月業績、季業績、年度業績。\n",
    "車隊車輛GPS定位資料，跑的路線分析，熱點尋找。(瞭解時間跟空間的相關性，像是什麼時間點在哪裡可以載到最多客人。)\n",
    "天氣資料，下雨天跟晴天，可能會影響搭車叫車意願。(中央氣象局)\n",
    "大型活動資料日期，可能會跟載客率有影響(網路搜集、政府公告)。\n",
    "\n",
    "### 3. 蒐集而來的資料型態為何\n",
    "\n",
    "A:數值型：業績、日期、活動日期。\n",
    "類別型：天氣。\n",
    "其他：GPS定位資訊。\n",
    "\n",
    "### 4. 你要回答的問題，其如何評估 (tips：你的假設如何驗證)\n",
    "\n",
    "回答的問題：影響業績的因素。\n",
    "找出個別資料跟業績的相關性。\n",
    "預測的業績，與實際房價的差值。\n",
    "可以用MAE(Mean Absolute Error)、\n",
    "MSE(Mean Squared Error)、\n",
    "RSME(Root Mean Squared Error)之類來評估。"
   ]
  },
  {
   "cell_type": "markdown",
   "metadata": {},
   "source": [
    "## 作業3：\n",
    "### 請點選檢視範例依照 Day_001_example_of_metrics.ipynb 完成 Mean Squared Error 的函式\n",
    "### 資料夾結構建立規則提醒：ML100 > data資料夾 & ipynb檔 \n",
    "### (請注意data的存放位置，建議放在*.ipynb 同一個目錄下，這樣才能在不修改code的情況下正常執行)"
   ]
  },
  {
   "cell_type": "markdown",
   "metadata": {},
   "source": [
    "## 練習時間\n",
    "#### 請寫一個函式用來計算 Mean Square Error\n",
    "$ MSE = \\frac{1}{n}\\sum_{i=1}^{n}{(Y_i - \\hat{Y}_i)^2} $\n",
    "\n",
    "### Hint: [如何取平方](https://googoodesign.gitbooks.io/-ezpython/unit-1.html)"
   ]
  },
  {
   "cell_type": "code",
   "execution_count": 1,
   "metadata": {},
   "outputs": [],
   "source": [
    "import numpy as np\n",
    "import matplotlib.pyplot as plt"
   ]
  },
  {
   "cell_type": "code",
   "execution_count": 11,
   "metadata": {},
   "outputs": [
    {
     "name": "stdout",
     "output_type": "stream",
     "text": [
      "The Mean absolute error is 12.070\n"
     ]
    }
   ],
   "source": [
    "def mean_absolute_error(y, yp):\n",
    "    \"\"\"\n",
    "    計算 MAE\n",
    "    Args:\n",
    "        - y: 實際值\n",
    "        - yp: 預測值\n",
    "    Return:\n",
    "        - mae: MAE\n",
    "    \"\"\"\n",
    "    mae = MAE = sum(abs(y - yp)) / len(y)\n",
    "    return mae\n",
    "\n",
    "MAE = mean_absolute_error(y, y_hat)\n",
    "print(\"The Mean absolute error is %.3f\" % (MAE))"
   ]
  },
  {
   "cell_type": "code",
   "execution_count": 6,
   "metadata": {},
   "outputs": [],
   "source": [
    "def mean_squared_error(y,yp):\n",
    "    \"\"\"\n",
    "    請完成這個 Function 後往下執行\n",
    "    \"\"\"\n",
    "    mse = MSE = sum((y - yp)**2) / len(y)\n",
    "    return mse"
   ]
  },
  {
   "cell_type": "code",
   "execution_count": 7,
   "metadata": {},
   "outputs": [
    {
     "data": {
      "image/png": "[encoded data removed]",
      "text/plain": [
       "<matplotlib.figure.Figure at 0x11557d240>"
      ]
     },
     "metadata": {},
     "output_type": "display_data"
    }
   ],
   "source": [
    "w = 3\n",
    "b = 0.5\n",
    "\n",
    "x_lin = np.linspace(0, 100, 101)\n",
    "\n",
    "y = (x_lin + np.random.randn(101) * 5) * w + b\n",
    "\n",
    "plt.plot(x_lin, y, 'b.', label = 'data points')\n",
    "plt.title(\"Assume we have data points\")\n",
    "plt.legend(loc = 2)\n",
    "plt.show()"
   ]
  },
  {
   "cell_type": "code",
   "execution_count": 8,
   "metadata": {},
   "outputs": [
    {
     "data": {
      "image/png": "[encoded data removed]",
      "text/plain": [
       "<matplotlib.figure.Figure at 0x1155a4a20>"
      ]
     },
     "metadata": {},
     "output_type": "display_data"
    }
   ],
   "source": [
    "y_hat = x_lin * w + b\n",
    "plt.plot(x_lin, y, 'b.', label = 'data')\n",
    "plt.plot(x_lin, y_hat, 'r-', label = 'prediction')\n",
    "plt.title(\"Assume we have data points (And the prediction)\")\n",
    "plt.legend(loc = 2)\n",
    "plt.show()"
   ]
  },
  {
   "cell_type": "code",
   "execution_count": 12,
   "metadata": {},
   "outputs": [
    {
     "name": "stdout",
     "output_type": "stream",
     "text": [
      "The Mean squared error is 229.091\n",
      "The Mean absolute error is 12.070\n"
     ]
    }
   ],
   "source": [
    "# 執行 Function, 確認有沒有正常執行\n",
    "MSE = mean_squared_error(y, y_hat)\n",
    "MAE = mean_absolute_error(y, y_hat)\n",
    "print(\"The Mean squared error is %.3f\" % (MSE))\n",
    "print(\"The Mean absolute error is %.3f\" % (MAE))"
   ]
  },
  {
   "cell_type": "code",
   "execution_count": null,
   "metadata": {},
   "outputs": [],
   "source": []
  }
 ],
 "metadata": {
  "anaconda-cloud": {},
  "kernelspec": {
   "display_name": "Python 3",
   "language": "python",
   "name": "python3"
  },
  "language_info": {
   "codemirror_mode": {
    "name": "ipython",
    "version": 3
   },
   "file_extension": ".py",
   "mimetype": "text/x-python",
   "name": "python",
   "nbconvert_exporter": "python",
   "pygments_lexer": "ipython3",
   "version": "3.6.4"
  }
 },
 "nbformat": 4,
 "nbformat_minor": 1
}
